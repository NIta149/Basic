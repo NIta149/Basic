{
 "cells": [
  {
   "cell_type": "code",
   "execution_count": 3,
   "id": "b86be667",
   "metadata": {},
   "outputs": [
    {
     "name": "stdout",
     "output_type": "stream",
     "text": [
      "Hellow world\n"
     ]
    }
   ],
   "source": [
    "print('Hellow world')"
   ]
  },
  {
   "cell_type": "code",
   "execution_count": 5,
   "id": "d1456964",
   "metadata": {},
   "outputs": [
    {
     "name": "stdout",
     "output_type": "stream",
     "text": [
      "10\n"
     ]
    }
   ],
   "source": [
    "a=10\n",
    "print(a)"
   ]
  },
  {
   "cell_type": "code",
   "execution_count": 7,
   "id": "a0d26e69",
   "metadata": {},
   "outputs": [
    {
     "name": "stdout",
     "output_type": "stream",
     "text": [
      "<class 'int'>\n"
     ]
    }
   ],
   "source": [
    "print (type(a))"
   ]
  },
  {
   "cell_type": "code",
   "execution_count": 8,
   "id": "21c144ff",
   "metadata": {},
   "outputs": [
    {
     "name": "stdout",
     "output_type": "stream",
     "text": [
      "SundayMonday\n"
     ]
    }
   ],
   "source": [
    "a = 'Sunday'\n",
    "b = 'Monday'\n",
    "print (a+b)"
   ]
  },
  {
   "cell_type": "code",
   "execution_count": 9,
   "id": "d7d47612",
   "metadata": {},
   "outputs": [
    {
     "name": "stdout",
     "output_type": "stream",
     "text": [
      "Today is  Sunday  Tomorrow is  Monday\n"
     ]
    }
   ],
   "source": [
    "print ('Today is ', a,' Tomorrow is ', b)"
   ]
  },
  {
   "cell_type": "code",
   "execution_count": 10,
   "id": "dccfcc68",
   "metadata": {},
   "outputs": [
    {
     "data": {
      "text/plain": [
       "[10, 20, 30, 40, 50]"
      ]
     },
     "execution_count": 10,
     "metadata": {},
     "output_type": "execute_result"
    }
   ],
   "source": [
    "list1 = [10,20,30,40,50]\n",
    "list1"
   ]
  },
  {
   "cell_type": "code",
   "execution_count": 15,
   "id": "00c414f6",
   "metadata": {},
   "outputs": [
    {
     "name": "stdout",
     "output_type": "stream",
     "text": [
      "60\n",
      "58\n",
      "56\n",
      "54\n",
      "52\n"
     ]
    }
   ],
   "source": [
    "for i in range (60,50,-2):\n",
    "    print(i)"
   ]
  },
  {
   "cell_type": "code",
   "execution_count": 17,
   "id": "7f6fd813",
   "metadata": {},
   "outputs": [
    {
     "name": "stdout",
     "output_type": "stream",
     "text": [
      "{'Fist Name': 'John', 'Age': 25, 'Salary': 5000}\n"
     ]
    }
   ],
   "source": [
    "dict = {'Fist Name': 'John', 'Age': 25, 'Salary':5000}\n",
    "print(dict)"
   ]
  },
  {
   "cell_type": "code",
   "execution_count": 22,
   "id": "c451daf8",
   "metadata": {},
   "outputs": [
    {
     "data": {
      "text/plain": [
       "['John', 25, 5000, 'TN']"
      ]
     },
     "execution_count": 22,
     "metadata": {},
     "output_type": "execute_result"
    }
   ],
   "source": [
    "Emp= ['John', 25, 5000, 'TN']\n",
    "Emp"
   ]
  },
  {
   "cell_type": "code",
   "execution_count": 21,
   "id": "63fe2a54",
   "metadata": {},
   "outputs": [
    {
     "name": "stdout",
     "output_type": "stream",
     "text": [
      "{50, 20, 40, 10, 30}\n"
     ]
    }
   ],
   "source": [
    "s1 = {10,20,30,40,50,20,30,20}\n",
    "print (s1)"
   ]
  },
  {
   "cell_type": "code",
   "execution_count": 23,
   "id": "ef870929",
   "metadata": {},
   "outputs": [
    {
     "name": "stdout",
     "output_type": "stream",
     "text": [
      "(10, 20, 30)\n",
      "<class 'tuple'>\n"
     ]
    }
   ],
   "source": [
    "tup = (10,20,30)\n",
    "print (tup)\n",
    "print (type(tup))"
   ]
  },
  {
   "cell_type": "code",
   "execution_count": 27,
   "id": "5291db7a",
   "metadata": {},
   "outputs": [
    {
     "name": "stdout",
     "output_type": "stream",
     "text": [
      "(10, 20, 30, 30, 20, 10)\n"
     ]
    }
   ],
   "source": [
    "tup1 = (10,20,30, 30,20,10)\n",
    "print (tup1)"
   ]
  },
  {
   "cell_type": "code",
   "execution_count": 29,
   "id": "718d9593",
   "metadata": {},
   "outputs": [
    {
     "name": "stdout",
     "output_type": "stream",
     "text": [
      "{10, 20, 30}\n"
     ]
    }
   ],
   "source": [
    "print (set(tup1))"
   ]
  },
  {
   "cell_type": "code",
   "execution_count": 30,
   "id": "cb7ce9fa",
   "metadata": {},
   "outputs": [
    {
     "name": "stdout",
     "output_type": "stream",
     "text": [
      "True\n"
     ]
    }
   ],
   "source": [
    "l1 = [10,20,30]\n",
    "print (30 in l1)"
   ]
  },
  {
   "cell_type": "code",
   "execution_count": 31,
   "id": "6556f756",
   "metadata": {},
   "outputs": [
    {
     "name": "stdout",
     "output_type": "stream",
     "text": [
      "20\n"
     ]
    }
   ],
   "source": [
    "for i in l1:\n",
    "    if (i == 20):\n",
    "        print (i)\n",
    "        "
   ]
  },
  {
   "cell_type": "code",
   "execution_count": 34,
   "id": "a46f3449",
   "metadata": {},
   "outputs": [
    {
     "name": "stdout",
     "output_type": "stream",
     "text": [
      "Python version\n",
      "3.9.7 (default, Sep 16 2021, 16:59:28) [MSC v.1916 64 bit (AMD64)]\n",
      "Version info.\n",
      "sys.version_info(major=3, minor=9, micro=7, releaselevel='final', serial=0)\n"
     ]
    }
   ],
   "source": [
    "#Write a Python program to get the Python version you are using.  \n",
    "\n",
    "import sys\n",
    "print(\"Python version\")\n",
    "print (sys.version)\n",
    "print(\"Version info.\")\n",
    "print (sys.version_info)\n",
    "\n",
    "\n",
    "\n",
    "\n",
    "\n"
   ]
  },
  {
   "cell_type": "code",
   "execution_count": 42,
   "id": "fea0ef21",
   "metadata": {},
   "outputs": [
    {
     "name": "stdout",
     "output_type": "stream",
     "text": [
      "Current date and time : \n",
      "2021-11-27 22:49:28\n"
     ]
    }
   ],
   "source": [
    "#Write a Python program to display the current date and time.\n",
    "import datetime\n",
    "now = datetime.datetime.now()\n",
    "print (\"Current date and time : \")\n",
    "print (now.strftime(\"%Y-%m-%d %H:%M:%S\"))\n",
    "\n"
   ]
  },
  {
   "cell_type": "code",
   "execution_count": 43,
   "id": "a872219e",
   "metadata": {},
   "outputs": [
    {
     "name": "stdout",
     "output_type": "stream",
     "text": [
      "3.141592653589793\n"
     ]
    }
   ],
   "source": [
    "#Write a Python program which accepts the radius of a circle from the user and compute the area. \n",
    "\n",
    "from math import pi\n",
    "r = float(input (\"Input the radius of the circle : \"))\n",
    "print (\"The area of the circle with radius \" + str(r) + \" is: \" + str(pi * r**2))"
   ]
  },
  {
   "cell_type": "code",
   "execution_count": 45,
   "id": "dc826f21",
   "metadata": {},
   "outputs": [
    {
     "name": "stdout",
     "output_type": "stream",
     "text": [
      "Input your First Name : nita\n",
      "Input your Last Name : gaikwad\n",
      "Hello  gaikwad nita\n"
     ]
    }
   ],
   "source": [
    "#Write a Python program which accepts the user's first and last name and print them in reverse order with a space between them\n",
    "\n",
    "\n",
    "fname = input(\"Input your First Name : \")\n",
    "lname = input(\"Input your Last Name : \")\n",
    "print (\"Hello  \" + lname+ \" \"  + fname)\n"
   ]
  },
  {
   "cell_type": "code",
   "execution_count": 50,
   "id": "d634df1b",
   "metadata": {},
   "outputs": [
    {
     "name": "stdout",
     "output_type": "stream",
     "text": [
      "Input some comma seprated numbers : 1 2 3\n",
      "List :  ['1 2 3']\n"
     ]
    }
   ],
   "source": [
    "#Write a Python program which accepts a sequence of comma-separated numbers from user and generate a list and a tuple with those numbers\n",
    "\n",
    "values = input(\"Input some comma seprated numbers : \")\n",
    "list = values.split(\",\")\n",
    "tuple = tuple(list)\n",
    "print('List : ',list)\n",
    "print('Tuple : ',tuple)\n"
   ]
  },
  {
   "cell_type": "code",
   "execution_count": 51,
   "id": "a67090ce",
   "metadata": {},
   "outputs": [
    {
     "name": "stdout",
     "output_type": "stream",
     "text": [
      "Input the Filename: n.java\n",
      "The extension of the file is : 'java'\n"
     ]
    }
   ],
   "source": [
    "#Write a Python program to accept a filename from the user and print the extension of that. \n",
    "\n",
    "filename = input(\"Input the Filename: \")\n",
    "f_extns = filename.split(\".\")\n",
    "print (\"The extension of the file is : \" + repr(f_extns[-1]))\n"
   ]
  },
  {
   "cell_type": "code",
   "execution_count": 52,
   "id": "282d1a30",
   "metadata": {},
   "outputs": [
    {
     "name": "stdout",
     "output_type": "stream",
     "text": [
      "Red Black\n"
     ]
    }
   ],
   "source": [
    "#Write a Python program to display the first and last colors from the following list. \n",
    "\n",
    "color_list = [\"Red\",\"Green\",\"White\" ,\"Black\"]\n",
    "print( \"%s %s\"%(color_list[0],color_list[-1]))\n",
    "\n"
   ]
  },
  {
   "cell_type": "code",
   "execution_count": 57,
   "id": "b05f6309",
   "metadata": {},
   "outputs": [
    {
     "name": "stdout",
     "output_type": "stream",
     "text": [
      "Input an integer : 9\n",
      "9\n",
      "99\n",
      "999\n",
      "1107\n"
     ]
    }
   ],
   "source": [
    "#Write a Python program that accepts an integer (n) and computes the value of n+nn+nnn. \n",
    "\n",
    "a = int(input(\"Input an integer : \"))\n",
    "n1 = int( \"%s\" % a )\n",
    "print(n1)\n",
    "n2 = int( \"%s%s\" % (a,a) )\n",
    "print(n2)\n",
    "n3 = int( \"%s%s%s\" % (a,a,a) )\n",
    "print(n3)\n",
    "print (n1+n2+n3)\n"
   ]
  },
  {
   "cell_type": "code",
   "execution_count": 58,
   "id": "ede1484b",
   "metadata": {},
   "outputs": [
    {
     "name": "stdout",
     "output_type": "stream",
     "text": [
      "The volume of the sphere is:  904.7786842338603\n"
     ]
    }
   ],
   "source": [
    "#Write a Python program to get the volume of a sphere with radius 6.\n",
    "\n",
    "pi = 3.1415926535897931\n",
    "r= 6.0\n",
    "V= 4.0/3.0*pi* r**3\n",
    "print('The volume of the sphere is: ',V)\n"
   ]
  },
  {
   "cell_type": "code",
   "execution_count": 65,
   "id": "ba97fbf6",
   "metadata": {},
   "outputs": [
    {
     "name": "stdout",
     "output_type": "stream",
     "text": [
      "10\n",
      "Hellow\n",
      "10 \n",
      " Hellow\n"
     ]
    }
   ],
   "source": [
    "#Newline\n",
    "\n",
    "a=10\n",
    "b ='Hellow'\n",
    "print (a)\n",
    "print (b)\n",
    "print (a,'\\n',b)\n",
    "\n"
   ]
  },
  {
   "cell_type": "code",
   "execution_count": 66,
   "id": "2ae29f22",
   "metadata": {},
   "outputs": [
    {
     "name": "stdout",
     "output_type": "stream",
     "text": [
      "Hellow\n"
     ]
    }
   ],
   "source": [
    "x,y,z =10,12,'Hellow'\n",
    "print (z)\n"
   ]
  },
  {
   "cell_type": "code",
   "execution_count": 67,
   "id": "df6ec767",
   "metadata": {},
   "outputs": [
    {
     "name": "stdout",
     "output_type": "stream",
     "text": [
      "(19+10j)\n"
     ]
    }
   ],
   "source": [
    "A =10+6j\n",
    "B = 9+4j\n",
    "print (A+B)\n"
   ]
  },
  {
   "cell_type": "code",
   "execution_count": 68,
   "id": "6547a7f0",
   "metadata": {},
   "outputs": [
    {
     "name": "stdout",
     "output_type": "stream",
     "text": [
      "15\n",
      "10\n",
      "False\n"
     ]
    }
   ],
   "source": [
    "a = 10\n",
    "b = 15\n",
    "print (a and b)\n",
    "print (a or b)\n",
    "print (not a )\n"
   ]
  },
  {
   "cell_type": "code",
   "execution_count": 69,
   "id": "a654ec3e",
   "metadata": {},
   "outputs": [
    {
     "name": "stdout",
     "output_type": "stream",
     "text": [
      "True\n"
     ]
    }
   ],
   "source": [
    "x = [100,200,150]\n",
    "print (100 in x)\n"
   ]
  },
  {
   "cell_type": "code",
   "execution_count": 70,
   "id": "ee8449d2",
   "metadata": {},
   "outputs": [
    {
     "name": "stdout",
     "output_type": "stream",
     "text": [
      "(10, 15, 'A')\n"
     ]
    }
   ],
   "source": [
    "Tuple1 = (10,15,'A')\n",
    "print (Tuple1)\n"
   ]
  },
  {
   "cell_type": "code",
   "execution_count": 72,
   "id": "2d8b8408",
   "metadata": {},
   "outputs": [
    {
     "name": "stdout",
     "output_type": "stream",
     "text": [
      "15\n"
     ]
    }
   ],
   "source": [
    "print (Tuple1[1])\n",
    "\n"
   ]
  },
  {
   "cell_type": "code",
   "execution_count": 73,
   "id": "200e6a08",
   "metadata": {},
   "outputs": [
    {
     "name": "stdout",
     "output_type": "stream",
     "text": [
      "[[10, 15, 20], 'A', 25, (10, 15, 20)]\n",
      "[10, 15, 20]\n",
      "15\n"
     ]
    }
   ],
   "source": [
    "List1 = [[10,15,20],'A',25,(10,15,20)]\n",
    "\n",
    "print (List1)\n",
    "print (List1[0])\n",
    "print (List1[0][1])\n"
   ]
  },
  {
   "cell_type": "code",
   "execution_count": 80,
   "id": "2a523eb9",
   "metadata": {},
   "outputs": [
    {
     "name": "stdout",
     "output_type": "stream",
     "text": [
      "{'Age': [25, 30, 35], 'Name': ['John', 'Sam', 'Jim', 'Kim']}\n",
      "['John', 'Sam', 'Jim', 'Kim']\n"
     ]
    }
   ],
   "source": [
    "A = {'Age' :[25,30,35] , 'Name' : ['John','Sam','Jim','Kim']}\n",
    "print (A)\n",
    "type (A)\n",
    "print (A['Name'])\n"
   ]
  },
  {
   "cell_type": "code",
   "execution_count": 81,
   "id": "2508a5e4",
   "metadata": {},
   "outputs": [
    {
     "name": "stdout",
     "output_type": "stream",
     "text": [
      "True\n"
     ]
    }
   ],
   "source": [
    "print (A is not B)"
   ]
  },
  {
   "cell_type": "code",
   "execution_count": 82,
   "id": "d027066b",
   "metadata": {},
   "outputs": [
    {
     "name": "stdout",
     "output_type": "stream",
     "text": [
      "100 and  100 are equal\n"
     ]
    }
   ],
   "source": [
    "#If condition \n",
    "\n",
    "a =100\n",
    "b = 100\n",
    "if a>b:\n",
    "    print (a,'Greater than ', b)\n",
    "elif b>a:\n",
    "    print (b,'Greater than',a)\n",
    "else:\n",
    "    print (a,'and ',b ,'are equal')\n"
   ]
  },
  {
   "cell_type": "code",
   "execution_count": 83,
   "id": "86bfcd22",
   "metadata": {},
   "outputs": [
    {
     "name": "stdout",
     "output_type": "stream",
     "text": [
      "300 Greater than 200\n"
     ]
    }
   ],
   "source": [
    "#If condition  Between \n",
    "\n",
    "a =300\n",
    "if a <100:\n",
    "    pr#int (a,'Less than 100')\n",
    "elif (100<= a <=200):\n",
    "    print (a,'is between 100 and 200')\n",
    "else:\n",
    "    print (a,'Greater than 200')\n"
   ]
  },
  {
   "cell_type": "code",
   "execution_count": 94,
   "id": "7e72fcf4",
   "metadata": {},
   "outputs": [
    {
     "name": "stdout",
     "output_type": "stream",
     "text": [
      "40 Less than 100\n",
      "40 is between 20 and 50\n"
     ]
    }
   ],
   "source": [
    " #Inside If \n",
    "a =40\n",
    "if a <100:\n",
    "    print (a,'Less than 100')\n",
    "    if (50<= a <=100):\n",
    "        print (a,'is between 50 and 100')\n",
    "    elif (20<= a <=50):\n",
    "        print (a,'is between 20 and 50')\n",
    "    else:\n",
    "        print (a,'is less than 20')\n",
    "               \n",
    "elif (20<= a <=200):\n",
    "    print (a,'is between 50 and 200')\n",
    "else:\n",
    "    print (a,'Greater than 200')\n",
    "\n",
    "    \n"
   ]
  },
  {
   "cell_type": "code",
   "execution_count": 97,
   "id": "85144d8a",
   "metadata": {},
   "outputs": [
    {
     "name": "stdout",
     "output_type": "stream",
     "text": [
      "150 is smaller than 200\n"
     ]
    }
   ],
   "source": [
    "#Example 2 \n",
    "\n",
    "a = 150\n",
    "b = 200\n",
    "if a<b:\n",
    "    print (a,'is smaller than',b)\n",
    "    if 10 <= a <=100:\n",
    "        print (a,'is between 10 and 100')\n",
    "    elif a<10:\n",
    "        print (a,'is less than 10')\n",
    "    \n",
    "else:\n",
    "    print (a,'is bigger number than',b)\n",
    "\n",
    "\n",
    "\n"
   ]
  },
  {
   "cell_type": "code",
   "execution_count": 98,
   "id": "4e660679",
   "metadata": {},
   "outputs": [
    {
     "name": "stdout",
     "output_type": "stream",
     "text": [
      "The number is  1\n",
      "The number is  2\n",
      "The number is  3\n",
      "The number is  4\n",
      "Program end\n"
     ]
    }
   ],
   "source": [
    "#While loop\n",
    "a =1\n",
    "while a <5:\n",
    "    print ( 'The number is ',a)\n",
    "    a+=1\n",
    "print ('Program end')\n"
   ]
  },
  {
   "cell_type": "code",
   "execution_count": 99,
   "id": "bfe4dd17",
   "metadata": {},
   "outputs": [
    {
     "name": "stdout",
     "output_type": "stream",
     "text": [
      "Loop Start\n",
      "2\n",
      "3\n",
      "4\n",
      "5\n",
      "6\n",
      "7\n",
      "8\n",
      "9\n",
      "Loop End \n"
     ]
    }
   ],
   "source": [
    "#Example 2 \n",
    "x = 2\n",
    "print ('Loop Start')\n",
    "while x < 10:\n",
    "    print (x)\n",
    "    x +=1\n",
    "print ('Loop End ')\n"
   ]
  },
  {
   "cell_type": "code",
   "execution_count": 100,
   "id": "816667b9",
   "metadata": {},
   "outputs": [
    {
     "name": "stdout",
     "output_type": "stream",
     "text": [
      "0\n",
      "1\n",
      "2\n",
      "3\n",
      "Good Day\n"
     ]
    }
   ],
   "source": [
    "#For Loop\n",
    "\n",
    "A = [10,15,20,25]\n",
    "for i in range (len(A)):\n",
    "    print (i)\n",
    "print ('Good Day')\n"
   ]
  },
  {
   "cell_type": "code",
   "execution_count": 101,
   "id": "4b02be2f",
   "metadata": {},
   "outputs": [
    {
     "name": "stdout",
     "output_type": "stream",
     "text": [
      "\n",
      "1\n",
      "22\n",
      "333\n",
      "4444\n",
      "55555\n",
      "666666\n",
      "7777777\n",
      "88888888\n",
      "999999999\n",
      "Good Day\n"
     ]
    }
   ],
   "source": [
    "#Nested loop \n",
    "\n",
    "for i in range (10):\n",
    "    print (str(i)*i)\n",
    "    \n",
    "print ('Good Day')\n"
   ]
  },
  {
   "cell_type": "code",
   "execution_count": 103,
   "id": "51e95d59",
   "metadata": {},
   "outputs": [
    {
     "name": "stdout",
     "output_type": "stream",
     "text": [
      "Pen\n",
      "    School\n",
      "    College\n",
      "Pencil\n",
      "    School\n",
      "    College\n",
      "Book\n",
      "    School\n",
      "    College\n",
      "Toy\n",
      "    School\n",
      "    College\n"
     ]
    }
   ],
   "source": [
    "#Example 2 \n",
    "A =  ['Pen','Pencil','Book','Toy']\n",
    "B = ['School', 'College']\n",
    "for i in A:\n",
    "    print (i)\n",
    "    for j in B:\n",
    "        print('   ',j)\n"
   ]
  },
  {
   "cell_type": "code",
   "execution_count": 108,
   "id": "a11d2c81",
   "metadata": {},
   "outputs": [
    {
     "name": "stdout",
     "output_type": "stream",
     "text": [
      "Start\n",
      "end\n"
     ]
    }
   ],
   "source": [
    "#File Operations \n",
    "#Write File \n",
    "newfile= open(\"Sample1.txt\",'w')\n",
    "print ('Start')\n",
    "for i in range (10):\n",
    "    newfile.write('Welcome to Python\\n')\n",
    "print ('end')\n",
    "newfile.close()\n"
   ]
  },
  {
   "cell_type": "code",
   "execution_count": 109,
   "id": "8b81a86e",
   "metadata": {},
   "outputs": [
    {
     "name": "stdout",
     "output_type": "stream",
     "text": [
      "Start\n",
      "Welcome to Python\n",
      "Welcome to Python\n",
      "Welcome to Python\n",
      "Welcome to Python\n",
      "Welcome to Python\n",
      "Welcome to Python\n",
      "Welcome to Python\n",
      "Welcome to Python\n",
      "Welcome to Python\n",
      "Welcome to Python\n",
      "\n",
      "end\n"
     ]
    }
   ],
   "source": [
    "\n",
    "#Read File \n",
    "newfile= open(\"Sample1.txt\",'r')\n",
    "print ('Start')\n",
    "print (newfile.read())\n",
    "print ('end')\n",
    "newfile.close()\n",
    "\n"
   ]
  },
  {
   "cell_type": "code",
   "execution_count": 110,
   "id": "647f0676",
   "metadata": {},
   "outputs": [],
   "source": [
    "#close\n",
    "newfile.close()\n"
   ]
  },
  {
   "cell_type": "code",
   "execution_count": 116,
   "id": "7a879548",
   "metadata": {},
   "outputs": [],
   "source": [
    "#Rename\n",
    "import os\n",
    "os.rename (\"Sample1.txt\",\"Sample5.txt\")\n",
    "\n"
   ]
  },
  {
   "cell_type": "code",
   "execution_count": 117,
   "id": "204a1e1d",
   "metadata": {},
   "outputs": [],
   "source": [
    "#Remove \n",
    "import os\n",
    "os.remove (\"Sample5.txt\")\n"
   ]
  },
  {
   "cell_type": "code",
   "execution_count": 122,
   "id": "bff4e0cf",
   "metadata": {},
   "outputs": [
    {
     "name": "stdout",
     "output_type": "stream",
     "text": [
      "2\n",
      "3\n"
     ]
    }
   ],
   "source": [
    "#Write a Python program to count the number 4 in a given list.  \n",
    "\n",
    "def list_count_4(nums):\n",
    "  count = 0  \n",
    "  for num in nums:\n",
    "    if num == 4:\n",
    "      count = count + 1\n",
    "\n",
    "  return count\n",
    "\n",
    "\n",
    "print(list_count_4([1, 4, 6, 7, 4]))\n",
    "print(list_count_4([1, 4, 6, 4, 7, 4]))\n",
    "\n"
   ]
  },
  {
   "cell_type": "code",
   "execution_count": 123,
   "id": "d0663097",
   "metadata": {},
   "outputs": [
    {
     "name": "stdout",
     "output_type": "stream",
     "text": [
      "False\n",
      "True\n"
     ]
    }
   ],
   "source": [
    "#Write a Python program to test whether a passed letter is a vowel or not.  \n",
    "def is_vowel(char):\n",
    "    all_vowels = 'aeiou'\n",
    "    return char in all_vowels\n",
    "\n",
    "\n",
    "print(is_vowel('c'))\n",
    "print(is_vowel('e'))\n"
   ]
  },
  {
   "cell_type": "code",
   "execution_count": 124,
   "id": "66626ca6",
   "metadata": {},
   "outputs": [
    {
     "name": "stdout",
     "output_type": "stream",
     "text": [
      "True\n",
      "False\n"
     ]
    }
   ],
   "source": [
    "#Write a Python program to check whether a specified value is contained in a group of values\n",
    "\n",
    "def is_group_member(group_data, n):\n",
    "    for value in group_data:\n",
    "        if n == value:\n",
    "            return True\n",
    "    return False\n",
    "\n",
    "print(is_group_member([1, 5, 8, 3], 3))\n",
    "print(is_group_member([5, 8, 3], -1))\n"
   ]
  },
  {
   "cell_type": "code",
   "execution_count": 145,
   "id": "78477e2d",
   "metadata": {},
   "outputs": [
    {
     "name": "stdout",
     "output_type": "stream",
     "text": [
      "@@\n",
      "@@@\n",
      "@@@@@@\n",
      "@@@@@\n"
     ]
    }
   ],
   "source": [
    " #Write a Python program to create a histogram from a given list of integers. \n",
    "    \n",
    " \n",
    "def histogram( items ):\n",
    "    for n in items:\n",
    "        output = ''\n",
    "        times = n\n",
    "        while( times > 0 ):\n",
    "          output += '@'\n",
    "          times = times - 1\n",
    "        print(output)\n",
    "\n",
    "histogram([2, 3, 6, 5]) \n",
    "\n"
   ]
  },
  {
   "cell_type": "code",
   "execution_count": 144,
   "id": "42b9891f",
   "metadata": {},
   "outputs": [
    {
     "name": "stdout",
     "output_type": "stream",
     "text": [
      "15122\n"
     ]
    }
   ],
   "source": [
    "#Write a Python program to concatenate all elements in a list into a string and return it. \n",
    "\n",
    "def concatenate_list_data(list):\n",
    "    result= ''\n",
    "    for element in list:\n",
    "        result += str(element)\n",
    "    return result\n",
    "\n",
    "print(concatenate_list_data([1, 5, 12, 2]))\n"
   ]
  },
  {
   "cell_type": "code",
   "execution_count": 146,
   "id": "abf2bb80",
   "metadata": {},
   "outputs": [
    {
     "name": "stdout",
     "output_type": "stream",
     "text": [
      "Input the base : 6\n",
      "Input the height : 9\n",
      "area =  27.0\n"
     ]
    }
   ],
   "source": [
    "#Write a Python program that will accept the base and height of a triangle and compute the area. \n",
    "\n",
    "b = int(input(\"Input the base : \"))\n",
    "h = int(input(\"Input the height : \"))\n",
    "\n",
    "area = b*h/2\n",
    "\n",
    "print(\"area = \", area)\n"
   ]
  },
  {
   "cell_type": "code",
   "execution_count": 147,
   "id": "85e3900f",
   "metadata": {},
   "outputs": [
    {
     "name": "stdout",
     "output_type": "stream",
     "text": [
      "0\n",
      "0\n",
      "0\n",
      "6\n",
      "12\n"
     ]
    }
   ],
   "source": [
    "#Write a Python program to sum of three given integers. However, if two values are equal sum will be zero. \n",
    "\n",
    "def sum(x, y, z):\n",
    "    if x == y or y == z or x==z:\n",
    "        sum = 0\n",
    "    else:\n",
    "        sum = x + y + z\n",
    "    return sum\n",
    "\n",
    "print(sum(2, 1, 2))\n",
    "print(sum(3, 2, 2))\n",
    "print(sum(2, 2, 2))\n",
    "print(sum(1, 2, 3)) \n",
    "print(sum(5, 4, 3)) \n"
   ]
  },
  {
   "cell_type": "code",
   "execution_count": 148,
   "id": "49d8ec94",
   "metadata": {},
   "outputs": [
    {
     "name": "stdout",
     "output_type": "stream",
     "text": [
      "20\n",
      "12\n",
      "22\n"
     ]
    }
   ],
   "source": [
    "#Write a Python program to sum of two given integers. However, if the sum is between 15 to 20 it will return 20.\n",
    "\n",
    "def sum(x, y):\n",
    "    sum = x + y\n",
    "    if sum in range(15, 20):\n",
    "        return 20\n",
    "    else:\n",
    "        return sum\n",
    "\n",
    "print(sum(10, 6))\n",
    "print(sum(10, 2))\n",
    "print(sum(10, 12))\n"
   ]
  },
  {
   "cell_type": "code",
   "execution_count": 149,
   "id": "feef0333",
   "metadata": {},
   "outputs": [
    {
     "name": "stdout",
     "output_type": "stream",
     "text": [
      "True\n",
      "True\n",
      "True\n"
     ]
    }
   ],
   "source": [
    "#Write a Python program that will return true if the two given integer values are equal or their sum or difference is 5.\n",
    "\n",
    "def test_number5(x, y):\n",
    "    if x == y or abs(x-y) == 5 or (x+y) == 5:\n",
    "        return True\n",
    "    else:\n",
    "        return False\n",
    "\n",
    "print(test_number5(7, 2))\n",
    "print(test_number5(3, 2))\n",
    "print(test_number5(2, 2))\n"
   ]
  },
  {
   "cell_type": "code",
   "execution_count": 150,
   "id": "7902e9e5",
   "metadata": {},
   "outputs": [
    {
     "name": "stdout",
     "output_type": "stream",
     "text": [
      "6.324555320336759\n"
     ]
    }
   ],
   "source": [
    "#Write a Python program to compute the distance between the points (x1, y1) and (x2, y2). \n",
    "\n",
    "import math\n",
    "p1 = [4, 0]\n",
    "p2 = [6, 6]\n",
    "distance = math.sqrt( ((p1[0]-p2[0])**2)+((p1[1]-p2[1])**2) )\n",
    "\n",
    "print(distance)\n"
   ]
  },
  {
   "cell_type": "code",
   "execution_count": null,
   "id": "573a35ee",
   "metadata": {},
   "outputs": [],
   "source": []
  }
 ],
 "metadata": {
  "kernelspec": {
   "display_name": "Python 3 (ipykernel)",
   "language": "python",
   "name": "python3"
  },
  "language_info": {
   "codemirror_mode": {
    "name": "ipython",
    "version": 3
   },
   "file_extension": ".py",
   "mimetype": "text/x-python",
   "name": "python",
   "nbconvert_exporter": "python",
   "pygments_lexer": "ipython3",
   "version": "3.9.7"
  }
 },
 "nbformat": 4,
 "nbformat_minor": 5
}
