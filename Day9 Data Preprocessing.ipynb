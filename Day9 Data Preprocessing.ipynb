{
 "cells": [
  {
   "cell_type": "code",
   "execution_count": 2,
   "metadata": {},
   "outputs": [],
   "source": [
    "import numpy as np\n",
    "import pandas as pd\n",
    "import matplotlib.pyplot as plt\n",
    "import os\n"
   ]
  },
  {
   "cell_type": "code",
   "execution_count": 3,
   "metadata": {},
   "outputs": [
    {
     "name": "stdout",
     "output_type": "stream",
     "text": [
      "   Country   Age   Salary  Purchased \n",
      "0   France   44.0  72000.0         No\n",
      "1    Spain   27.0  48000.0        Yes\n",
      "2  Germany    NaN  54000.0         No\n",
      "3    Spain   39.0      NaN         No\n",
      "4  Germany    NaN  64000.0        Yes\n",
      "5   France   35.0  58000.0        Yes\n",
      "6    Spain   39.0  52000.0         No\n",
      "7   France   48.0      NaN        Yes\n",
      "8  Germany   50.0  83000.0         No\n",
      "9   France   37.0  67000.0        Yes\n"
     ]
    }
   ],
   "source": [
    "os.chdir (\"C:\\\\Noble\\\\Training\\\\Top Mentor\\\\Training\\\\Data Set\\\\\")\n",
    "df1= pd.read_excel(\"Data Preprocessing Data File.xlsx\")\t\n",
    "print (df1)\n"
   ]
  },
  {
   "cell_type": "code",
   "execution_count": 7,
   "metadata": {},
   "outputs": [
    {
     "data": {
      "text/plain": [
       "array([['France ', 44.0, 72000.0],\n",
       "       ['Spain ', 27.0, 48000.0],\n",
       "       ['Germany ', nan, 54000.0],\n",
       "       ['Spain ', 39.0, nan],\n",
       "       ['Germany ', nan, 64000.0],\n",
       "       ['France ', 35.0, 58000.0],\n",
       "       ['Spain ', 39.0, 52000.0],\n",
       "       ['France ', 48.0, nan],\n",
       "       ['Germany ', 50.0, 83000.0],\n",
       "       ['France ', 37.0, 67000.0]], dtype=object)"
      ]
     },
     "execution_count": 7,
     "metadata": {},
     "output_type": "execute_result"
    }
   ],
   "source": [
    "x= df1.iloc[:,:-1].values\n",
    "x"
   ]
  },
  {
   "cell_type": "code",
   "execution_count": 10,
   "metadata": {},
   "outputs": [
    {
     "data": {
      "text/plain": [
       "array(['No', 'Yes', 'No', 'No', 'Yes', 'Yes', 'No', 'Yes', 'No', 'Yes'],\n",
       "      dtype=object)"
      ]
     },
     "execution_count": 10,
     "metadata": {},
     "output_type": "execute_result"
    }
   ],
   "source": [
    "y =  df1.iloc [:,3].values\n",
    "y"
   ]
  },
  {
   "cell_type": "code",
   "execution_count": null,
   "metadata": {},
   "outputs": [],
   "source": [
    "from sklearn.impute import SimpleImputer\n",
    "imputer = SimpleImputer(missing_values=np.nan, strategy='mean')\n",
    "imputer = imputer.fit(x[:,1:3])\n",
    "x [:,1:3]= imputer.transform(x[:,1:3])\n",
    "print (x)\n"
   ]
  },
  {
   "cell_type": "code",
   "execution_count": 22,
   "metadata": {},
   "outputs": [
    {
     "data": {
      "text/plain": [
       "array([['France ', 44.0, 72000.0],\n",
       "       ['Spain ', 27.0, 48000.0],\n",
       "       ['Germany ', 39.875, 54000.0],\n",
       "       ['Spain ', 39.0, 62250.0],\n",
       "       ['Germany ', 39.875, 64000.0],\n",
       "       ['France ', 35.0, 58000.0],\n",
       "       ['Spain ', 39.0, 52000.0],\n",
       "       ['France ', 48.0, 62250.0],\n",
       "       ['Germany ', 50.0, 83000.0],\n",
       "       ['France ', 37.0, 67000.0]], dtype=object)"
      ]
     },
     "execution_count": 22,
     "metadata": {},
     "output_type": "execute_result"
    }
   ],
   "source": [
    "from sklearn.impute import SimpleImputer\n",
    "imp = SimpleImputer(missing_values=np.nan, strategy= 'mean')\n",
    "imp= imp.fit(x[:,1:3])\n",
    "x[:,1:3]= imp.transform(x[:,1:3])\n",
    "x"
   ]
  },
  {
   "cell_type": "code",
   "execution_count": 23,
   "metadata": {},
   "outputs": [
    {
     "data": {
      "text/plain": [
       "array([['France ', 44.0, 72000.0],\n",
       "       ['Spain ', 27.0, 48000.0],\n",
       "       ['Germany ', 39.875, 54000.0],\n",
       "       ['Spain ', 39.0, 62250.0],\n",
       "       ['Germany ', 39.875, 64000.0],\n",
       "       ['France ', 35.0, 58000.0],\n",
       "       ['Spain ', 39.0, 52000.0],\n",
       "       ['France ', 48.0, 62250.0],\n",
       "       ['Germany ', 50.0, 83000.0],\n",
       "       ['France ', 37.0, 67000.0]], dtype=object)"
      ]
     },
     "execution_count": 23,
     "metadata": {},
     "output_type": "execute_result"
    }
   ],
   "source": [
    "x"
   ]
  },
  {
   "cell_type": "code",
   "execution_count": 25,
   "metadata": {},
   "outputs": [
    {
     "name": "stdout",
     "output_type": "stream",
     "text": [
      "SimpleImputer()\n"
     ]
    }
   ],
   "source": [
    "from sklearn.impute import SimpleImputer\n",
    "imp1 = SimpleImputer(missing_values=np.nan, strategy= 'mean')\n",
    "imp2 = imp1.fit(x[:,1:3])\n",
    "print (imp2)"
   ]
  }
 ],
 "metadata": {
  "kernelspec": {
   "display_name": "Python 3",
   "language": "python",
   "name": "python3"
  },
  "language_info": {
   "codemirror_mode": {
    "name": "ipython",
    "version": 3
   },
   "file_extension": ".py",
   "mimetype": "text/x-python",
   "name": "python",
   "nbconvert_exporter": "python",
   "pygments_lexer": "ipython3",
   "version": "3.8.5"
  }
 },
 "nbformat": 4,
 "nbformat_minor": 4
}
